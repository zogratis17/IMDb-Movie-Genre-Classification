{
 "cells": [
  {
   "cell_type": "markdown",
   "id": "30f7895b",
   "metadata": {},
   "source": [
    "Task Details : Create a machine learning model that can predict the genre of a movie based on its plot summary or other textual information. You can use techniques like TF-IDF or word embeddings with classifiers such as Naive Bayes, Logistic Regression, or Support Vector Machines."
   ]
  },
  {
   "cell_type": "code",
   "execution_count": 29,
   "id": "2ce60f26",
   "metadata": {},
   "outputs": [],
   "source": [
    "import pandas as pd\n",
    "from sklearn.feature_extraction.text import TfidfVectorizer\n",
    "from sklearn.naive_bayes import MultinomialNB\n",
    "from sklearn.linear_model import LogisticRegression\n",
    "from sklearn.svm import LinearSVC\n",
    "from sklearn.metrics import accuracy_score, confusion_matrix\n",
    "from sklearn.model_selection import train_test_split\n",
    "import joblib\n"
   ]
  },
  {
   "cell_type": "code",
   "execution_count": 30,
   "id": "65be6ec1",
   "metadata": {},
   "outputs": [],
   "source": [
    "df = pd.read_csv(\"train_data.txt\", sep=\":::\", engine=\"python\", header=None, names=[\"id\", \"title\", \"genre\", \"description\"])\n",
    "df.dropna(subset=[\"genre\", \"description\"], inplace=True)\n",
    "df[\"genre\"] = df[\"genre\"].str.lower().str.strip()\n",
    "df[\"description\"] = df[\"description\"].str.strip()\n"
   ]
  },
  {
   "cell_type": "code",
   "execution_count": 31,
   "id": "ed4ac07c",
   "metadata": {},
   "outputs": [
    {
     "name": "stdout",
     "output_type": "stream",
     "text": [
      "<class 'pandas.core.frame.DataFrame'>\n",
      "RangeIndex: 54214 entries, 0 to 54213\n",
      "Data columns (total 4 columns):\n",
      " #   Column       Non-Null Count  Dtype \n",
      "---  ------       --------------  ----- \n",
      " 0   id           54214 non-null  int64 \n",
      " 1   title        54214 non-null  object\n",
      " 2   genre        54214 non-null  object\n",
      " 3   description  54214 non-null  object\n",
      "dtypes: int64(1), object(3)\n",
      "memory usage: 1.7+ MB\n"
     ]
    }
   ],
   "source": [
    "df.info()"
   ]
  },
  {
   "cell_type": "code",
   "execution_count": 32,
   "id": "375c742f",
   "metadata": {},
   "outputs": [
    {
     "data": {
      "text/html": [
       "<div>\n",
       "<style scoped>\n",
       "    .dataframe tbody tr th:only-of-type {\n",
       "        vertical-align: middle;\n",
       "    }\n",
       "\n",
       "    .dataframe tbody tr th {\n",
       "        vertical-align: top;\n",
       "    }\n",
       "\n",
       "    .dataframe thead th {\n",
       "        text-align: right;\n",
       "    }\n",
       "</style>\n",
       "<table border=\"1\" class=\"dataframe\">\n",
       "  <thead>\n",
       "    <tr style=\"text-align: right;\">\n",
       "      <th></th>\n",
       "      <th>id</th>\n",
       "      <th>title</th>\n",
       "      <th>genre</th>\n",
       "      <th>description</th>\n",
       "    </tr>\n",
       "  </thead>\n",
       "  <tbody>\n",
       "    <tr>\n",
       "      <th>0</th>\n",
       "      <td>1</td>\n",
       "      <td>Oscar et la dame rose (2009)</td>\n",
       "      <td>drama</td>\n",
       "      <td>Listening in to a conversation between his doc...</td>\n",
       "    </tr>\n",
       "    <tr>\n",
       "      <th>1</th>\n",
       "      <td>2</td>\n",
       "      <td>Cupid (1997)</td>\n",
       "      <td>thriller</td>\n",
       "      <td>A brother and sister with a past incestuous re...</td>\n",
       "    </tr>\n",
       "    <tr>\n",
       "      <th>2</th>\n",
       "      <td>3</td>\n",
       "      <td>Young, Wild and Wonderful (1980)</td>\n",
       "      <td>adult</td>\n",
       "      <td>As the bus empties the students for their fiel...</td>\n",
       "    </tr>\n",
       "    <tr>\n",
       "      <th>3</th>\n",
       "      <td>4</td>\n",
       "      <td>The Secret Sin (1915)</td>\n",
       "      <td>drama</td>\n",
       "      <td>To help their unemployed father make ends meet...</td>\n",
       "    </tr>\n",
       "    <tr>\n",
       "      <th>4</th>\n",
       "      <td>5</td>\n",
       "      <td>The Unrecovered (2007)</td>\n",
       "      <td>drama</td>\n",
       "      <td>The film's title refers not only to the un-rec...</td>\n",
       "    </tr>\n",
       "  </tbody>\n",
       "</table>\n",
       "</div>"
      ],
      "text/plain": [
       "   id                               title     genre  \\\n",
       "0   1       Oscar et la dame rose (2009)      drama   \n",
       "1   2                       Cupid (1997)   thriller   \n",
       "2   3   Young, Wild and Wonderful (1980)      adult   \n",
       "3   4              The Secret Sin (1915)      drama   \n",
       "4   5             The Unrecovered (2007)      drama   \n",
       "\n",
       "                                         description  \n",
       "0  Listening in to a conversation between his doc...  \n",
       "1  A brother and sister with a past incestuous re...  \n",
       "2  As the bus empties the students for their fiel...  \n",
       "3  To help their unemployed father make ends meet...  \n",
       "4  The film's title refers not only to the un-rec...  "
      ]
     },
     "execution_count": 32,
     "metadata": {},
     "output_type": "execute_result"
    }
   ],
   "source": [
    "df.head()"
   ]
  },
  {
   "cell_type": "code",
   "execution_count": 33,
   "id": "40ab9158",
   "metadata": {},
   "outputs": [],
   "source": [
    "genre_counts = df['genre'].value_counts()\n",
    "rare_genres = genre_counts[genre_counts < 2].index\n",
    "df['genre'] = df['genre'].apply(lambda x: 'other' if x in rare_genres else x)"
   ]
  },
  {
   "cell_type": "code",
   "execution_count": 34,
   "id": "057c6a6d",
   "metadata": {},
   "outputs": [
    {
     "data": {
      "text/plain": [
       "0              drama\n",
       "1           thriller\n",
       "2              adult\n",
       "3              drama\n",
       "4              drama\n",
       "            ...     \n",
       "54209         comedy\n",
       "54210         horror\n",
       "54211    documentary\n",
       "54212         comedy\n",
       "54213        history\n",
       "Name: genre, Length: 54214, dtype: object"
      ]
     },
     "execution_count": 34,
     "metadata": {},
     "output_type": "execute_result"
    }
   ],
   "source": [
    "df['genre']"
   ]
  },
  {
   "cell_type": "code",
   "execution_count": 35,
   "id": "1bc158e1",
   "metadata": {},
   "outputs": [],
   "source": [
    "tfidf = TfidfVectorizer(stop_words=\"english\", max_features=3000)\n",
    "X = tfidf.fit_transform(df[\"description\"])\n",
    "y = df[\"genre\"]"
   ]
  },
  {
   "cell_type": "code",
   "execution_count": 36,
   "id": "81fdfda8",
   "metadata": {},
   "outputs": [],
   "source": [
    "\n",
    "X_train, X_val, y_train, y_val = train_test_split(X, y, test_size=0.2, random_state=42, stratify=y)\n"
   ]
  },
  {
   "cell_type": "code",
   "execution_count": 37,
   "id": "2e4728a2",
   "metadata": {},
   "outputs": [],
   "source": [
    "models = [\n",
    "    (\"Naive Bayes\", MultinomialNB()),\n",
    "    (\"Logistic Regression\", LogisticRegression(max_iter=300, solver=\"liblinear\", class_weight=\"balanced\")),\n",
    "     (\"SVM\", LinearSVC())\n",
    "]\n"
   ]
  },
  {
   "cell_type": "code",
   "execution_count": 38,
   "id": "0bf5551c",
   "metadata": {},
   "outputs": [],
   "source": [
    "results = {}\n",
    "conf_matrices = {}\n"
   ]
  },
  {
   "cell_type": "code",
   "execution_count": 39,
   "id": "eaa5b282",
   "metadata": {},
   "outputs": [
    {
     "name": "stdout",
     "output_type": "stream",
     "text": [
      "\n",
      "Training: Naive Bayes\n",
      "Naive Bayes Accuracy: 0.5191\n",
      "\n",
      "Training: Logistic Regression\n",
      "Logistic Regression Accuracy: 0.4886\n",
      "\n",
      "Training: SVM\n",
      "SVM Accuracy: 0.5589\n"
     ]
    }
   ],
   "source": [
    "\n",
    "results = {}\n",
    "conf_matrices = {}  \n",
    "\n",
    "for name, model in models:\n",
    "    print(f\"\\nTraining: {name}\")\n",
    "    model.fit(X_train, y_train)\n",
    "    y_pred = model.predict(X_val)\n",
    "    acc = accuracy_score(y_val, y_pred)\n",
    "\n",
    "    print(f\"{name} Accuracy: {acc:.4f}\")\n",
    "\n",
    "    cm = confusion_matrix(y_val, y_pred)\n",
    "\n",
    "    results[name] = {\n",
    "        \"accuracy\": acc,\n",
    "        \"model\": model,\n",
    "        \"matrix\": cm\n",
    "    }\n",
    "\n",
    "    conf_matrices[name] = cm \n"
   ]
  },
  {
   "cell_type": "code",
   "execution_count": 40,
   "id": "581dd358",
   "metadata": {},
   "outputs": [
    {
     "name": "stdout",
     "output_type": "stream",
     "text": [
      "\n",
      "💾 Saving best model: SVM\n"
     ]
    },
    {
     "data": {
      "text/plain": [
       "['tfidf_vectorizer.joblib']"
      ]
     },
     "execution_count": 40,
     "metadata": {},
     "output_type": "execute_result"
    }
   ],
   "source": [
    "best_model_name = max(results, key=lambda name: results[name][\"accuracy\"])\n",
    "best_model = results[best_model_name][\"model\"]\n",
    "\n",
    "print(f\"\\n💾 Saving best model: {best_model_name}\")\n",
    "joblib.dump(best_model, \"best_genre_model.joblib\")\n",
    "joblib.dump(tfidf, \"tfidf_vectorizer.joblib\")\n"
   ]
  },
  {
   "cell_type": "code",
   "execution_count": 41,
   "id": "a1c6126e",
   "metadata": {},
   "outputs": [],
   "source": [
    "test_df = pd.read_csv(\"test_data.txt\", sep=\":::\", engine=\"python\", header=None, names=[\"id\", \"title\", \"description\"])\n",
    "test_df.dropna(subset=[\"description\"], inplace=True)\n",
    "test_df[\"description\"] = test_df[\"description\"].str.strip()\n",
    "\n",
    "loaded_model = joblib.load(\"best_genre_model.joblib\")\n",
    "loaded_vectorizer = joblib.load(\"tfidf_vectorizer.joblib\")\n",
    "\n",
    "X_final_test = loaded_vectorizer.transform(test_df[\"description\"])\n",
    "test_preds = loaded_model.predict(X_final_test)\n",
    "\n",
    "test_df[\"predicted_genre\"] = test_preds\n"
   ]
  },
  {
   "cell_type": "code",
   "execution_count": 42,
   "id": "8175c148",
   "metadata": {},
   "outputs": [
    {
     "name": "stdout",
     "output_type": "stream",
     "text": [
      "\n",
      "🎬 Predicted Genres on Unlabeled Test Set:\n",
      "\n",
      "1 ::  Edgar's Lunch (1998)  → short\n",
      "2 ::  La guerra de papá (1977)  → drama\n",
      "3 ::  Off the Beaten Track (2010)  → documentary\n",
      "4 ::  Meu Amigo Hindu (2015)  → drama\n",
      "5 ::  Er nu zhai (1955)  → drama\n",
      "6 ::  Riddle Room (2016)  → drama\n",
      "7 ::  L'amica (1969)  → drama\n",
      "8 ::  Ina Mina Dika (1989)  → comedy\n",
      "9 ::  Equinox Special: Britain's Tornados (2005)  → documentary\n",
      "10 ::  Press (2011)  → drama\n"
     ]
    }
   ],
   "source": [
    "print(\"\\n🎬 Predicted Genres on Unlabeled Test Set:\\n\")\n",
    "for idx, row in test_df.iterrows():\n",
    "    print(f\"{row['id']} :: {row['title']} → {row['predicted_genre']}\")\n",
    "    if idx >= 9:  \n",
    "        break"
   ]
  }
 ],
 "metadata": {
  "kernelspec": {
   "display_name": "Python 3",
   "language": "python",
   "name": "python3"
  },
  "language_info": {
   "codemirror_mode": {
    "name": "ipython",
    "version": 3
   },
   "file_extension": ".py",
   "mimetype": "text/x-python",
   "name": "python",
   "nbconvert_exporter": "python",
   "pygments_lexer": "ipython3",
   "version": "3.13.5"
  }
 },
 "nbformat": 4,
 "nbformat_minor": 5
}
